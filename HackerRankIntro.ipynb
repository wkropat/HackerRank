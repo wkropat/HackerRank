{
 "cells": [
  {
   "cell_type": "code",
   "execution_count": 42,
   "metadata": {
    "collapsed": true
   },
   "outputs": [],
   "source": []
  },
  {
   "cell_type": "code",
   "execution_count": 43,
   "metadata": {},
   "outputs": [
    {
     "name": "stdout",
     "output_type": "stream",
     "text": [
      "2\n",
      "1\n",
      "0\n",
      "0\n",
      "3\n"
     ]
    },
    {
     "data": {
      "text/plain": [
       "3"
      ]
     },
     "execution_count": 43,
     "metadata": {},
     "output_type": "execute_result"
    }
   ],
   "source": [
    "n = 9\n",
    "ar = [10, 20, 20, 10, 10, 30, 50, 10,20]\n",
    "\n",
    "sockMerchant(n,ar)"
   ]
  },
  {
   "cell_type": "code",
   "execution_count": 68,
   "metadata": {},
   "outputs": [
    {
     "name": "stdout",
     "output_type": "stream",
     "text": [
      "U\n",
      "D\n",
      "D\n",
      "D\n",
      "U\n",
      "D\n",
      "U\n",
      "U\n"
     ]
    },
    {
     "data": {
      "text/plain": [
       "2"
      ]
     },
     "execution_count": 68,
     "metadata": {},
     "output_type": "execute_result"
    }
   ],
   "source": [
    "# Complete the countingValleys function below.\n",
    "\n",
    "def countingValleys(n, s):\n",
    "    valleycount = 0\n",
    "    state = 'U'\n",
    "    \n",
    "    for steps in s:\n",
    "        if steps == 'U':\n",
    "            if state == 'D':\n",
    "                valleycount += 1\n",
    "            state = 'U'\n",
    "        if steps == 'D': \n",
    "            state = 'D' \n",
    "\n",
    "        \n",
    "    return(valleycount)\n",
    "            \n",
    "n = 8\n",
    "s = 'UDDDUDUU'\n",
    "        \n",
    "countingValleys(n,s)\n",
    "        \n",
    "        \n",
    "    \n",
    "\n",
    "\n",
    "    "
   ]
  },
  {
   "cell_type": "markdown",
   "metadata": {
    "collapsed": true
   },
   "source": [
    "Lilah has a string, , of lowercase English letters that she repeated infinitely many times.\n",
    "\n",
    "Given an integer, , find and print the number of letter a's in the first  letters of Lilah's infinite string.\n",
    "\n",
    "For example, if the string  and , the substring we consider is , the first  characters of her infinite string. There are  occurrences of a in the substring.\n",
    "\n",
    "Function Description\n",
    "\n",
    "Complete the repeatedString function in the editor below. It should return an integer representing the number of occurrences of a in the prefix of length  in the infinitely repeating string.\n",
    "\n",
    "repeatedString has the following parameter(s):\n",
    "\n",
    "s: a string to repeat\n",
    "n: the number of characters to consider\n",
    "Input Format\n",
    "\n",
    "The first line contains a single string, . \n",
    "The second line contains an integer, ."
   ]
  },
  {
   "cell_type": "code",
   "execution_count": null,
   "metadata": {
    "collapsed": true
   },
   "outputs": [],
   "source": [
    "def repeatedString(s,n):\n",
    "    index = 0\n",
    "    for i in s:\n",
    "        if i = 'a' index +=1\n",
    "    \n",
    "    return()\n",
    "\n",
    "\n",
    "    \n",
    "    \n",
    "    \n",
    "    "
   ]
  }
 ],
 "metadata": {
  "kernelspec": {
   "display_name": "Python 3",
   "language": "python",
   "name": "python3"
  },
  "language_info": {
   "codemirror_mode": {
    "name": "ipython",
    "version": 3
   },
   "file_extension": ".py",
   "mimetype": "text/x-python",
   "name": "python",
   "nbconvert_exporter": "python",
   "pygments_lexer": "ipython3",
   "version": "3.6.3"
  }
 },
 "nbformat": 4,
 "nbformat_minor": 2
}
