{
 "cells": [
  {
   "cell_type": "markdown",
   "metadata": {
    "collapsed": true
   },
   "source": [
    "Hacker Rank Questions workbook"
   ]
  },
  {
   "cell_type": "code",
   "execution_count": null,
   "metadata": {},
   "outputs": [],
   "source": []
  },
  {
   "cell_type": "code",
   "execution_count": 1,
   "metadata": {},
   "outputs": [
    {
     "data": {
      "text/plain": [
       "2"
      ]
     },
     "execution_count": 1,
     "metadata": {},
     "output_type": "execute_result"
    }
   ],
   "source": [
    "# Complete the countingValleys function below.\n",
    "\n",
    "def countingValleys(n, s):\n",
    "    valleycount = 0\n",
    "    state = 'U'\n",
    "    \n",
    "    for steps in s:\n",
    "        if steps == 'U':\n",
    "            if state == 'D':\n",
    "                valleycount += 1\n",
    "            state = 'U'\n",
    "        if steps == 'D': \n",
    "            state = 'D' \n",
    "\n",
    "        \n",
    "    return(valleycount)\n",
    "            \n",
    "n = 8\n",
    "s = 'UDDDUDUU'\n",
    "        \n",
    "countingValleys(n,s)  "
   ]
  },
  {
   "cell_type": "markdown",
   "metadata": {
    "collapsed": true
   },
   "source": [
    "Question:\n",
    "\n",
    "Lilah has a stringof lowercase English letters that she repeated infinitely many times.\n",
    "\n",
    "Given an integer A, find and print the number of letter a's in the first A letters of Lilah's infinite string.\n",
    "\n",
    "Complete the repeatedString function in the editor below. It should return an integer representing the number of occurrences of a in the prefix of length  in the infinitely repeating string.\n",
    "\n",
    "repeatedString has the following parameter(s):\n",
    "\n",
    "s: a string to repeat\n",
    "n: the number of characters to consider\n",
    "\n",
    "Input Format:\n",
    "\n",
    "The first line contains a single string\n",
    "The second line contains an integer"
   ]
  },
  {
   "cell_type": "code",
   "execution_count": null,
   "metadata": {
    "collapsed": true
   },
   "outputs": [],
   "source": [
    "def repeatedString(s,n):\n",
    "    index = 0\n",
    "    for i in s:\n",
    "        if i = 'a' index +=1\n",
    "    \n",
    "    return()\n",
    "\n",
    "\n",
    "    \n",
    "    \n",
    "    \n",
    "    "
   ]
  }
 ],
 "metadata": {
  "kernelspec": {
   "display_name": "Python 3",
   "language": "python",
   "name": "python3"
  },
  "language_info": {
   "codemirror_mode": {
    "name": "ipython",
    "version": 3
   },
   "file_extension": ".py",
   "mimetype": "text/x-python",
   "name": "python",
   "nbconvert_exporter": "python",
   "pygments_lexer": "ipython3",
   "version": "3.6.3"
  }
 },
 "nbformat": 4,
 "nbformat_minor": 2
}
